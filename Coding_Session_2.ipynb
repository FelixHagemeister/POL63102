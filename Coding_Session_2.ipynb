{
 "cells": [
  {
   "cell_type": "markdown",
   "metadata": {},
   "source": [
    "## Transformations in Political Economy - Technological Change and Populism (POL63102)\n",
    "### Coding Session 2: Linear Regression"
   ]
  },
  {
   "cell_type": "markdown",
   "metadata": {},
   "source": [
    "---\n",
    "This document guides you through coding session 2. Please try to follow the instructions on your own PC and feel free to ask questions if something is unclear. After this session you should be able to do the following:\n",
    "\n",
    "- Implement Simple Linear Regression in Python\n",
    "- Interprete Results from Simple Linear Regression\n",
    "---"
   ]
  },
  {
   "cell_type": "markdown",
   "metadata": {},
   "source": [
    "#### Importing Modules and Loading Data"
   ]
  },
  {
   "cell_type": "markdown",
   "metadata": {},
   "source": [
    "Linear regression is a standard tool for analyzing the relationship between two or more variables.\n",
    "\n",
    "Let's start with importing the modules needed for our analysis. In addition to **pandas**, **seaborn**, and **matplotlib**, we will also use **numpy** for numerical calculus and **statsmodels** to estimate, interpret, and visualize linear regression models."
   ]
  },
  {
   "cell_type": "code",
   "execution_count": 1,
   "metadata": {},
   "outputs": [],
   "source": [
    "import matplotlib.pyplot as plt\n",
    "import numpy as np\n",
    "import pandas as pd\n",
    "import seaborn as sns\n",
    "import statsmodels.api as sm\n",
    "import statsmodels.formula.api as smf\n",
    "from statsmodels.iolib.summary2 import summary_col"
   ]
  },
  {
   "cell_type": "markdown",
   "metadata": {},
   "source": [
    "As in Coding Session 1, let's use the data from Autor et al. (2020)."
   ]
  },
  {
   "cell_type": "code",
   "execution_count": 2,
   "metadata": {},
   "outputs": [],
   "source": [
    "df = pd.read_stata('C:/Users/felix/Dropbox/HfP/Teaching/SoSe21/Populism_Course/data/Autor_data_extract.dta')"
   ]
  },
  {
   "cell_type": "markdown",
   "metadata": {},
   "source": [
    "#### Visualisation of Linear Regression"
   ]
  },
  {
   "cell_type": "markdown",
   "metadata": {},
   "source": [
    "One question in the paper is whether higher import competition leads to higher vote shares for the Republican party in the 2016 election as compared to the 2002 election. Thus, we can write a simple linear regression model as follows:\n",
    "\n",
    "\\begin{align}\n",
    "\\Delta \\text{Republican Vote Share}_i = \\beta_0 + \\beta_1 \\text{Import Competition}_i + u_i\n",
    "\\end{align}\n",
    "\n",
    "where\n",
    "* $i$ indexes observations (county-district cells in the US)\n",
    "* $\\beta_0$ is the intercept of the linear trend line on the y-axis\n",
    "* $\\beta_1$ is the slope of the linear trend line, representing the marginal effect of a unit change in $\\text{Import Competition}_i$ on $\\Delta \\text{Republican Vote Share}_i$\n",
    "* $u_i$ is the error term (deviations of observations from the linear trend due to factors not included in the model)\n",
    "\n",
    "Let's first visualise this regression by overlaying a scatterplot with a linear fit using the *regplot()* function from **seaborn**. If you delete the \"#\" (i.e. \"uncomment\") and run the line below, you can see the help description for this command.\n"
   ]
  },
  {
   "cell_type": "code",
   "execution_count": 3,
   "metadata": {},
   "outputs": [],
   "source": [
    "# help(sns.regplot)"
   ]
  },
  {
   "cell_type": "code",
   "execution_count": 4,
   "metadata": {},
   "outputs": [
    {
     "data": {
      "text/plain": [
       "<matplotlib.axes._subplots.AxesSubplot at 0x27e18378ba8>"
      ]
     },
     "execution_count": 4,
     "metadata": {},
     "output_type": "execute_result"
    },
    {
     "data": {
      "image/png": "[encoded data removed]",
      "text/plain": [
       "<Figure size 432x288 with 1 Axes>"
      ]
     },
     "metadata": {
      "needs_background": "light"
     },
     "output_type": "display_data"
    }
   ],
   "source": [
    "# Define y and x\n",
    "y = df[\"d2_shnr_2002_2016\"]\n",
    "x = df[\"d_imp_usch_pd\"]\n",
    "\n",
    "#create scatterplot with regression line (without confidence bands)\n",
    "sns.regplot(x, y, ci=None, scatter_kws={\"color\": \"grey\"}, line_kws={\"color\": \"red\"})"
   ]
  },
  {
   "cell_type": "markdown",
   "metadata": {},
   "source": [
    "As you can see, there seems to be a slightly positive relationship. However, is the slope statistically significantly different from zero? Let's use a regression model to test this. Note that ordinary least squares (OLS) find the slope and estimate its standard deviation by minimizing the *sum of squared residuals*, i.e. the squared differences between observations and the predicated value of the dependent variable."
   ]
  },
  {
   "cell_type": "markdown",
   "metadata": {},
   "source": [
    "#### Implementation of Ordinary Least Squares (OLS)"
   ]
  },
  {
   "cell_type": "markdown",
   "metadata": {},
   "source": [
    "To estimate the constant term $\\beta_0$, we need to add a column of 1's to our dataset (consider the equation above)."
   ]
  },
  {
   "cell_type": "code",
   "execution_count": 5,
   "metadata": {},
   "outputs": [],
   "source": [
    "df['const']=1"
   ]
  },
  {
   "cell_type": "markdown",
   "metadata": {},
   "source": [
    "Now we can construct our model in **statsmodels** using the ols function. Note that the syntax for the formula in the brackets is \"y ~ x\", i.e. regress y on x."
   ]
  },
  {
   "cell_type": "code",
   "execution_count": 10,
   "metadata": {},
   "outputs": [
    {
     "name": "stdout",
     "output_type": "stream",
     "text": [
      "Help on method from_formula in module statsmodels.base.model:\n",
      "\n",
      "from_formula(formula, data, subset=None, drop_cols=None, *args, **kwargs) method of builtins.type instance\n",
      "    Create a Model from a formula and dataframe.\n",
      "    \n",
      "    Parameters\n",
      "    ----------\n",
      "    formula : str or generic Formula object\n",
      "        The formula specifying the model\n",
      "    data : array-like\n",
      "        The data for the model. See Notes.\n",
      "    subset : array-like\n",
      "        An array-like object of booleans, integers, or index values that\n",
      "        indicate the subset of df to use in the model. Assumes df is a\n",
      "        `pandas.DataFrame`\n",
      "    drop_cols : array-like\n",
      "        Columns to drop from the design matrix.  Cannot be used to\n",
      "        drop terms involving categoricals.\n",
      "    args : extra arguments\n",
      "        These are passed to the model\n",
      "    kwargs : extra keyword arguments\n",
      "        These are passed to the model with one exception. The\n",
      "        ``eval_env`` keyword is passed to patsy. It can be either a\n",
      "        :class:`patsy:patsy.EvalEnvironment` object or an integer\n",
      "        indicating the depth of the namespace to use. For example, the\n",
      "        default ``eval_env=0`` uses the calling namespace. If you wish\n",
      "        to use a \"clean\" environment set ``eval_env=-1``.\n",
      "    \n",
      "    Returns\n",
      "    -------\n",
      "    model : Model instance\n",
      "    \n",
      "    Notes\n",
      "    -----\n",
      "    data must define __getitem__ with the keys in the formula terms\n",
      "    args and kwargs are passed on to the model instantiation. E.g.,\n",
      "    a numpy structured or rec array, a dictionary, or a pandas DataFrame.\n",
      "\n"
     ]
    }
   ],
   "source": [
    "help(smf.ols)"
   ]
  },
  {
   "cell_type": "code",
   "execution_count": 7,
   "metadata": {},
   "outputs": [
    {
     "data": {
      "text/plain": [
       "statsmodels.regression.linear_model.OLS"
      ]
     },
     "execution_count": 7,
     "metadata": {},
     "output_type": "execute_result"
    }
   ],
   "source": [
    "reg1 = smf.ols('d2_shnr_2002_2016 ~ d_imp_usch_pd', data=df)\n",
    "type(reg1)"
   ]
  },
  {
   "cell_type": "markdown",
   "metadata": {},
   "source": [
    "So far we have simply constructed our model.\n",
    "\n",
    "We need to use *.fit()* to obtain parameter estimates $\\hat \\beta_0$ and $\\hat \\beta_1$"
   ]
  },
  {
   "cell_type": "code",
   "execution_count": 8,
   "metadata": {},
   "outputs": [
    {
     "data": {
      "text/plain": [
       "statsmodels.regression.linear_model.RegressionResultsWrapper"
      ]
     },
     "execution_count": 8,
     "metadata": {},
     "output_type": "execute_result"
    }
   ],
   "source": [
    "results = reg1.fit()\n",
    "type(results)"
   ]
  },
  {
   "cell_type": "markdown",
   "metadata": {},
   "source": [
    "#### Interpretation of Results"
   ]
  },
  {
   "cell_type": "markdown",
   "metadata": {},
   "source": [
    "We now have the fitted regression model stored in *results*.\n",
    "\n",
    "To view the OLS regression results, we can call the *.summary()* method."
   ]
  },
  {
   "cell_type": "code",
   "execution_count": 9,
   "metadata": {},
   "outputs": [
    {
     "name": "stdout",
     "output_type": "stream",
     "text": [
      "                            OLS Regression Results                            \n",
      "==============================================================================\n",
      "Dep. Variable:      d2_shnr_2002_2016   R-squared:                       0.001\n",
      "Model:                            OLS   Adj. R-squared:                  0.000\n",
      "Method:                 Least Squares   F-statistic:                     2.490\n",
      "Date:                Fri, 11 Jun 2021   Prob (F-statistic):              0.115\n",
      "Time:                        14:56:14   Log-Likelihood:                -17616.\n",
      "No. Observations:                3767   AIC:                         3.524e+04\n",
      "Df Residuals:                    3765   BIC:                         3.525e+04\n",
      "Df Model:                           1                                         \n",
      "Covariance Type:            nonrobust                                         \n",
      "=================================================================================\n",
      "                    coef    std err          t      P>|t|      [0.025      0.975]\n",
      "---------------------------------------------------------------------------------\n",
      "Intercept         7.5867      0.647     11.724      0.000       6.318       8.856\n",
      "d_imp_usch_pd     1.0229      0.648      1.578      0.115      -0.248       2.294\n",
      "==============================================================================\n",
      "Omnibus:                       64.458   Durbin-Watson:                   1.558\n",
      "Prob(Omnibus):                  0.000   Jarque-Bera (JB):              106.310\n",
      "Skew:                           0.146   Prob(JB):                     8.23e-24\n",
      "Kurtosis:                       3.769   Cond. No.                         2.68\n",
      "==============================================================================\n",
      "\n",
      "Warnings:\n",
      "[1] Standard Errors assume that the covariance matrix of the errors is correctly specified.\n"
     ]
    }
   ],
   "source": [
    "print(results.summary())"
   ]
  },
  {
   "cell_type": "markdown",
   "metadata": {},
   "source": [
    "From our results, we see that\n",
    "\n",
    "The intercept $\\hat \\beta_0 = 7.5867 $ \n",
    "\n",
    "The slope $\\hat \\beta_1 = 1.0229$\n",
    "\n",
    "The positive  parameter estimate implies that import competition has a positive effect on economic outcomes, as we saw in the figure.\n",
    "\n",
    "The p-value of 0.115 for import competition implies that the effect of institutions on GDP is not statistically significant (using p < 0.05 or p < 0.1 as a rejection rule).\n",
    "\n",
    "The R-squared value of 0.001 indicates that around 0.1% of variation in Delta 2002-2016 Republican Vote Share is explained by import competition.\n",
    "\n",
    "Using our parameter estimates, we can now write our estimated relationship as\n",
    "\n",
    "\\begin{align}\n",
    "\\widehat{\\Delta \\text{Republican Vote Share}_i} = 7.5867 + 1.0229 \\text{Import Competition}_i\n",
    "\\end{align}\n",
    "\n",
    "This equation describes the line that best fits our data, as shown in the scatter plot with the linear fit above.\n",
    "\n",
    "We can use this equation to predict the level of Delta 2002-2016 Republican Vote Share for a value of the index import competition."
   ]
  },
  {
   "cell_type": "markdown",
   "metadata": {},
   "source": [
    "**Exercise:** Implement a linear regression with a different dependent or independent variable from the data at hand. What do you find?"
   ]
  },
  {
   "cell_type": "markdown",
   "metadata": {},
   "source": [
    "---\n",
    "**Congratulations! This is the end of coding session 2.**"
   ]
  }
 ],
 "metadata": {
  "kernelspec": {
   "display_name": "Python 3",
   "language": "python",
   "name": "python3"
  },
  "language_info": {
   "codemirror_mode": {
    "name": "ipython",
    "version": 3
   },
   "file_extension": ".py",
   "mimetype": "text/x-python",
   "name": "python",
   "nbconvert_exporter": "python",
   "pygments_lexer": "ipython3",
   "version": "3.7.3"
  },
  "varInspector": {
   "cols": {
    "lenName": 16,
    "lenType": 16,
    "lenVar": 40
   },
   "kernels_config": {
    "python": {
     "delete_cmd_postfix": "",
     "delete_cmd_prefix": "del ",
     "library": "var_list.py",
     "varRefreshCmd": "print(var_dic_list())"
    },
    "r": {
     "delete_cmd_postfix": ") ",
     "delete_cmd_prefix": "rm(",
     "library": "var_list.r",
     "varRefreshCmd": "cat(var_dic_list()) "
    }
   },
   "types_to_exclude": [
    "module",
    "function",
    "builtin_function_or_method",
    "instance",
    "_Feature"
   ],
   "window_display": false
  }
 },
 "nbformat": 4,
 "nbformat_minor": 2
}
