{
 "cells": [
  {
   "cell_type": "markdown",
   "metadata": {},
   "source": [
    "## Transformations in Political Economy - Technological Change and Populism (POL63102)\n",
    "### Coding Session: Short Recap of Saturday"
   ]
  },
  {
   "cell_type": "markdown",
   "metadata": {},
   "source": [
    "---\n",
    "This is a short revision coding session.\n",
    "\n",
    "---"
   ]
  },
  {
   "cell_type": "markdown",
   "metadata": {},
   "source": [
    "**Exercise1:** Load the data from Autor et al (2020), draw and save a scatter plot, run two linear regressions and save their output in a stargazer tab. Then, start a new overleaf project and compile the scatter plot and regression table into a pdf document.\n",
    "\n",
    "*Help*: you can use this document for guidance: https://www.overleaf.com/read/bnhzdxkmnspt\n",
    "\n",
    "**Exercise2:** Open google scholar (type \"scholar\" in google to find). Search for the Autor et al (2020) \"Importing Political Polarisation\" paper. Export citation as bibtex. Copy-paste the bibtex citation into references.bib in your overleaf project. Cite the Author et al (2020) paper using Latex citation. For more information see the documentation here: https://www.overleaf.com/learn/latex/Bibliography_management_in_LaTeX"
   ]
  }
 ],
 "metadata": {
  "kernelspec": {
   "display_name": "Python 3",
   "language": "python",
   "name": "python3"
  },
  "language_info": {
   "codemirror_mode": {
    "name": "ipython",
    "version": 3
   },
   "file_extension": ".py",
   "mimetype": "text/x-python",
   "name": "python",
   "nbconvert_exporter": "python",
   "pygments_lexer": "ipython3",
   "version": "3.7.3"
  },
  "varInspector": {
   "cols": {
    "lenName": 16,
    "lenType": 16,
    "lenVar": 40
   },
   "kernels_config": {
    "python": {
     "delete_cmd_postfix": "",
     "delete_cmd_prefix": "del ",
     "library": "var_list.py",
     "varRefreshCmd": "print(var_dic_list())"
    },
    "r": {
     "delete_cmd_postfix": ") ",
     "delete_cmd_prefix": "rm(",
     "library": "var_list.r",
     "varRefreshCmd": "cat(var_dic_list()) "
    }
   },
   "types_to_exclude": [
    "module",
    "function",
    "builtin_function_or_method",
    "instance",
    "_Feature"
   ],
   "window_display": false
  }
 },
 "nbformat": 4,
 "nbformat_minor": 2
}
