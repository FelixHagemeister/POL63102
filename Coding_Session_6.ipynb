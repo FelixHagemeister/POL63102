{
 "cells": [
  {
   "cell_type": "markdown",
   "metadata": {},
   "source": [
    "## Transformations in Political Economy - Technological Change and Populism (POL63102)\n",
    "### Coding Session 6: Instrumental Variables (IV)"
   ]
  },
  {
   "cell_type": "markdown",
   "metadata": {},
   "source": [
    "---\n",
    "This document guides you through coding session 6. Please try to follow the instructions on your own PC and feel free to ask questions if something is unclear. After this session you should be able to do the following:\n",
    "\n",
    "- Implement Instrumental Variables (IV) in Python\n",
    "- Remove missing values from data\n",
    "---"
   ]
  },
  {
   "cell_type": "markdown",
   "metadata": {},
   "source": [
    "We load the full \"house_2002_2016.dta\" data set from Autor et al (2020) again:"
   ]
  },
  {
   "cell_type": "code",
   "execution_count": 1,
   "metadata": {},
   "outputs": [],
   "source": [
    "import linearmodels.iv as iv\n",
    "import numpy as np\n",
    "import scipy.stats as st\n",
    "import matplotlib.pyplot as plt\n",
    "import pandas as pd\n",
    "import seaborn as sns\n",
    "import statsmodels.api as sm\n",
    "import statsmodels.formula.api as smf\n",
    "import os\n",
    "from pathlib import Path\n",
    "from stargazer.stargazer import Stargazer\n",
    "\n",
    "df = pd.read_stata('C:/Users/felix/Dropbox/HfP/Teaching/SoSe21/Populism_Course/Autor_et_al_2020/2-FinalDataPackage/dta/house_2002_2016.dta')"
   ]
  },
  {
   "cell_type": "markdown",
   "metadata": {},
   "source": [
    "Remember that the data contains amongst other the following variables:\n",
    "- *d2_shnr_2002_Y* are the main outcome variables measuring the change in the Republican two-party vote share percentage between year 2002 and year Y = 2004, ..., 2016\n",
    "- *d_imp_usch_pd* is the main independent variable for local labor market exposure to import competition from China\n",
    "- *l_shind_manuf_cbp* is a control variable for manufacturing employment share\n",
    "- *d_imp_otch_lag_pd* is the **shift-share instrumental variable** using Chinese exports to other countries"
   ]
  },
  {
   "cell_type": "markdown",
   "metadata": {},
   "source": [
    "Recall that we can implement IV as 2SLS. The idea is to *isolate exogenous variation* in $X$ using the instrument $Z$.\n",
    "\n",
    "\n",
    "- 1st Stage: obtain $\\hat X$ from estimating:\n",
    "\n",
    "\\begin{gather*}\n",
    "X=\\pi_0 + \\pi_1 Z + u\n",
    "\\end{gather*}\n",
    "\n",
    "\n",
    "\n",
    "- 2nd Stage: Plug $\\hat X$ in second stage:\n",
    "\n",
    "\\begin{gather*}\n",
    "Y = \\beta_0+\\beta_1 \\hat{X} +\\epsilon\n",
    "\\end{gather*}\n",
    "\n"
   ]
  },
  {
   "cell_type": "markdown",
   "metadata": {},
   "source": [
    "Let's first look at summary statistics of the variables:"
   ]
  },
  {
   "cell_type": "code",
   "execution_count": 2,
   "metadata": {
    "scrolled": true
   },
   "outputs": [
    {
     "data": {
      "text/html": [
       "<div>\n",
       "<style scoped>\n",
       "    .dataframe tbody tr th:only-of-type {\n",
       "        vertical-align: middle;\n",
       "    }\n",
       "\n",
       "    .dataframe tbody tr th {\n",
       "        vertical-align: top;\n",
       "    }\n",
       "\n",
       "    .dataframe thead th {\n",
       "        text-align: right;\n",
       "    }\n",
       "</style>\n",
       "<table border=\"1\" class=\"dataframe\">\n",
       "  <thead>\n",
       "    <tr style=\"text-align: right;\">\n",
       "      <th></th>\n",
       "      <th>count</th>\n",
       "      <th>mean</th>\n",
       "      <th>std</th>\n",
       "      <th>min</th>\n",
       "      <th>25%</th>\n",
       "      <th>50%</th>\n",
       "      <th>75%</th>\n",
       "      <th>max</th>\n",
       "    </tr>\n",
       "  </thead>\n",
       "  <tbody>\n",
       "    <tr>\n",
       "      <th>d2_shnr_2002_2016</th>\n",
       "      <td>3767.0</td>\n",
       "      <td>8.358822</td>\n",
       "      <td>25.995949</td>\n",
       "      <td>-95.661407</td>\n",
       "      <td>-6.477878</td>\n",
       "      <td>6.811324</td>\n",
       "      <td>23.068745</td>\n",
       "      <td>100.000000</td>\n",
       "    </tr>\n",
       "    <tr>\n",
       "      <th>d_imp_usch_pd</th>\n",
       "      <td>3772.0</td>\n",
       "      <td>0.754591</td>\n",
       "      <td>0.652882</td>\n",
       "      <td>-0.259663</td>\n",
       "      <td>0.343260</td>\n",
       "      <td>0.623485</td>\n",
       "      <td>0.966137</td>\n",
       "      <td>6.079161</td>\n",
       "    </tr>\n",
       "    <tr>\n",
       "      <th>l_shind_manuf_cbp</th>\n",
       "      <td>3772.0</td>\n",
       "      <td>0.189763</td>\n",
       "      <td>0.097713</td>\n",
       "      <td>0.001083</td>\n",
       "      <td>0.115888</td>\n",
       "      <td>0.170197</td>\n",
       "      <td>0.257179</td>\n",
       "      <td>0.552423</td>\n",
       "    </tr>\n",
       "    <tr>\n",
       "      <th>d_imp_otch_lag_pd</th>\n",
       "      <td>3772.0</td>\n",
       "      <td>1.292206</td>\n",
       "      <td>1.078565</td>\n",
       "      <td>-0.191521</td>\n",
       "      <td>0.631572</td>\n",
       "      <td>1.014031</td>\n",
       "      <td>1.624856</td>\n",
       "      <td>7.395879</td>\n",
       "    </tr>\n",
       "  </tbody>\n",
       "</table>\n",
       "</div>"
      ],
      "text/plain": [
       "                    count      mean        std        min       25%       50%  \\\n",
       "d2_shnr_2002_2016  3767.0  8.358822  25.995949 -95.661407 -6.477878  6.811324   \n",
       "d_imp_usch_pd      3772.0  0.754591   0.652882  -0.259663  0.343260  0.623485   \n",
       "l_shind_manuf_cbp  3772.0  0.189763   0.097713   0.001083  0.115888  0.170197   \n",
       "d_imp_otch_lag_pd  3772.0  1.292206   1.078565  -0.191521  0.631572  1.014031   \n",
       "\n",
       "                         75%         max  \n",
       "d2_shnr_2002_2016  23.068745  100.000000  \n",
       "d_imp_usch_pd       0.966137    6.079161  \n",
       "l_shind_manuf_cbp   0.257179    0.552423  \n",
       "d_imp_otch_lag_pd   1.624856    7.395879  "
      ]
     },
     "execution_count": 2,
     "metadata": {},
     "output_type": "execute_result"
    }
   ],
   "source": [
    "df[[\"d2_shnr_2002_2016\",\"d_imp_usch_pd\", \"l_shind_manuf_cbp\", \"d_imp_otch_lag_pd\"]].describe().T"
   ]
  },
  {
   "cell_type": "markdown",
   "metadata": {},
   "source": [
    "### First Stage"
   ]
  },
  {
   "cell_type": "markdown",
   "metadata": {},
   "source": [
    "Let's first visualize the relationship between the variable of interest and the instrument using a binned scatter plot."
   ]
  },
  {
   "cell_type": "code",
   "execution_count": 3,
   "metadata": {},
   "outputs": [
    {
     "data": {
      "text/plain": [
       "<matplotlib.axes._subplots.AxesSubplot at 0x2946559a198>"
      ]
     },
     "execution_count": 3,
     "metadata": {},
     "output_type": "execute_result"
    },
    {
     "data": {
      "image/png": "[encoded data removed]",
      "text/plain": [
       "<Figure size 432x288 with 1 Axes>"
      ]
     },
     "metadata": {
      "needs_background": "light"
     },
     "output_type": "display_data"
    }
   ],
   "source": [
    "# Define y and x axis\n",
    "y = df[\"d_imp_usch_pd\"]\n",
    "x = df[\"d_imp_otch_lag_pd\"]\n",
    "\n",
    "#create scatterplot with regression line (without confidence bands)\n",
    "sns.regplot(x, y, ci=None, scatter_kws={\"color\": \"grey\"}, line_kws={\"color\": \"red\"})"
   ]
  },
  {
   "cell_type": "markdown",
   "metadata": {},
   "source": [
    "Note that for the first stage, all other independent variables need to be added to the right hand side as well:"
   ]
  },
  {
   "cell_type": "code",
   "execution_count": 4,
   "metadata": {},
   "outputs": [
    {
     "data": {
      "text/html": [
       "<table class=\"simpletable\">\n",
       "<caption>OLS Regression Results</caption>\n",
       "<tr>\n",
       "  <th>Dep. Variable:</th>      <td>d_imp_usch_pd</td>  <th>  R-squared:         </th> <td>   0.510</td>\n",
       "</tr>\n",
       "<tr>\n",
       "  <th>Model:</th>                   <td>OLS</td>       <th>  Adj. R-squared:    </th> <td>   0.510</td>\n",
       "</tr>\n",
       "<tr>\n",
       "  <th>Method:</th>             <td>Least Squares</td>  <th>  F-statistic:       </th> <td>   1961.</td>\n",
       "</tr>\n",
       "<tr>\n",
       "  <th>Date:</th>             <td>Sun, 13 Jun 2021</td> <th>  Prob (F-statistic):</th>  <td>  0.00</td> \n",
       "</tr>\n",
       "<tr>\n",
       "  <th>Time:</th>                 <td>15:24:18</td>     <th>  Log-Likelihood:    </th> <td> -2398.5</td>\n",
       "</tr>\n",
       "<tr>\n",
       "  <th>No. Observations:</th>      <td>  3772</td>      <th>  AIC:               </th> <td>   4803.</td>\n",
       "</tr>\n",
       "<tr>\n",
       "  <th>Df Residuals:</th>          <td>  3769</td>      <th>  BIC:               </th> <td>   4822.</td>\n",
       "</tr>\n",
       "<tr>\n",
       "  <th>Df Model:</th>              <td>     2</td>      <th>                     </th>     <td> </td>   \n",
       "</tr>\n",
       "<tr>\n",
       "  <th>Covariance Type:</th>      <td>nonrobust</td>    <th>                     </th>     <td> </td>   \n",
       "</tr>\n",
       "</table>\n",
       "<table class=\"simpletable\">\n",
       "<tr>\n",
       "          <td></td>             <th>coef</th>     <th>std err</th>      <th>t</th>      <th>P>|t|</th>  <th>[0.025</th>    <th>0.975]</th>  \n",
       "</tr>\n",
       "<tr>\n",
       "  <th>Intercept</th>         <td>   -0.0815</td> <td>    0.016</td> <td>   -5.013</td> <td> 0.000</td> <td>   -0.113</td> <td>   -0.050</td>\n",
       "</tr>\n",
       "<tr>\n",
       "  <th>d_imp_otch_lag_pd</th> <td>    0.2185</td> <td>    0.009</td> <td>   25.344</td> <td> 0.000</td> <td>    0.202</td> <td>    0.235</td>\n",
       "</tr>\n",
       "<tr>\n",
       "  <th>l_shind_manuf_cbp</th> <td>    2.9184</td> <td>    0.095</td> <td>   30.672</td> <td> 0.000</td> <td>    2.732</td> <td>    3.105</td>\n",
       "</tr>\n",
       "</table>\n",
       "<table class=\"simpletable\">\n",
       "<tr>\n",
       "  <th>Omnibus:</th>       <td>3338.460</td> <th>  Durbin-Watson:     </th>  <td>   1.730</td> \n",
       "</tr>\n",
       "<tr>\n",
       "  <th>Prob(Omnibus):</th>  <td> 0.000</td>  <th>  Jarque-Bera (JB):  </th> <td>209046.907</td>\n",
       "</tr>\n",
       "<tr>\n",
       "  <th>Skew:</th>           <td> 3.936</td>  <th>  Prob(JB):          </th>  <td>    0.00</td> \n",
       "</tr>\n",
       "<tr>\n",
       "  <th>Kurtosis:</th>       <td>38.611</td>  <th>  Cond. No.          </th>  <td>    24.3</td> \n",
       "</tr>\n",
       "</table><br/><br/>Notes:<br/>[1] Standard Errors assume that the covariance matrix of the errors is correctly specified."
      ],
      "text/plain": [
       "<class 'statsmodels.iolib.summary.Summary'>\n",
       "\"\"\"\n",
       "                            OLS Regression Results                            \n",
       "==============================================================================\n",
       "Dep. Variable:          d_imp_usch_pd   R-squared:                       0.510\n",
       "Model:                            OLS   Adj. R-squared:                  0.510\n",
       "Method:                 Least Squares   F-statistic:                     1961.\n",
       "Date:                Sun, 13 Jun 2021   Prob (F-statistic):               0.00\n",
       "Time:                        15:24:18   Log-Likelihood:                -2398.5\n",
       "No. Observations:                3772   AIC:                             4803.\n",
       "Df Residuals:                    3769   BIC:                             4822.\n",
       "Df Model:                           2                                         \n",
       "Covariance Type:            nonrobust                                         \n",
       "=====================================================================================\n",
       "                        coef    std err          t      P>|t|      [0.025      0.975]\n",
       "-------------------------------------------------------------------------------------\n",
       "Intercept            -0.0815      0.016     -5.013      0.000      -0.113      -0.050\n",
       "d_imp_otch_lag_pd     0.2185      0.009     25.344      0.000       0.202       0.235\n",
       "l_shind_manuf_cbp     2.9184      0.095     30.672      0.000       2.732       3.105\n",
       "==============================================================================\n",
       "Omnibus:                     3338.460   Durbin-Watson:                   1.730\n",
       "Prob(Omnibus):                  0.000   Jarque-Bera (JB):           209046.907\n",
       "Skew:                           3.936   Prob(JB):                         0.00\n",
       "Kurtosis:                      38.611   Cond. No.                         24.3\n",
       "==============================================================================\n",
       "\n",
       "Notes:\n",
       "[1] Standard Errors assume that the covariance matrix of the errors is correctly specified.\n",
       "\"\"\""
      ]
     },
     "execution_count": 4,
     "metadata": {},
     "output_type": "execute_result"
    }
   ],
   "source": [
    "reg_firststage = smf.ols(formula='d_imp_usch_pd ~ d_imp_otch_lag_pd + l_shind_manuf_cbp ', data=df).fit()\n",
    "reg_firststage.summary()"
   ]
  },
  {
   "cell_type": "markdown",
   "metadata": {},
   "source": [
    "**Exercise:** Based on this output, what can you say about the relevance criterion of the instrument?"
   ]
  },
  {
   "cell_type": "markdown",
   "metadata": {},
   "source": [
    "Let's obtain the fitted values from the first stage:"
   ]
  },
  {
   "cell_type": "code",
   "execution_count": 5,
   "metadata": {},
   "outputs": [],
   "source": [
    "df['d_imp_usch_pd_fitted'] = reg_firststage.fittedvalues"
   ]
  },
  {
   "cell_type": "code",
   "execution_count": 6,
   "metadata": {},
   "outputs": [
    {
     "data": {
      "text/html": [
       "<div>\n",
       "<style scoped>\n",
       "    .dataframe tbody tr th:only-of-type {\n",
       "        vertical-align: middle;\n",
       "    }\n",
       "\n",
       "    .dataframe tbody tr th {\n",
       "        vertical-align: top;\n",
       "    }\n",
       "\n",
       "    .dataframe thead th {\n",
       "        text-align: right;\n",
       "    }\n",
       "</style>\n",
       "<table border=\"1\" class=\"dataframe\">\n",
       "  <thead>\n",
       "    <tr style=\"text-align: right;\">\n",
       "      <th></th>\n",
       "      <th>count</th>\n",
       "      <th>mean</th>\n",
       "      <th>std</th>\n",
       "      <th>min</th>\n",
       "      <th>25%</th>\n",
       "      <th>50%</th>\n",
       "      <th>75%</th>\n",
       "      <th>max</th>\n",
       "    </tr>\n",
       "  </thead>\n",
       "  <tbody>\n",
       "    <tr>\n",
       "      <th>d_imp_usch_pd_fitted</th>\n",
       "      <td>3772.0</td>\n",
       "      <td>0.754591</td>\n",
       "      <td>0.466212</td>\n",
       "      <td>-0.078375</td>\n",
       "      <td>0.416736</td>\n",
       "      <td>0.671922</td>\n",
       "      <td>1.023962</td>\n",
       "      <td>2.848157</td>\n",
       "    </tr>\n",
       "    <tr>\n",
       "      <th>d_imp_usch_pd</th>\n",
       "      <td>3772.0</td>\n",
       "      <td>0.754591</td>\n",
       "      <td>0.652882</td>\n",
       "      <td>-0.259663</td>\n",
       "      <td>0.343260</td>\n",
       "      <td>0.623485</td>\n",
       "      <td>0.966137</td>\n",
       "      <td>6.079161</td>\n",
       "    </tr>\n",
       "  </tbody>\n",
       "</table>\n",
       "</div>"
      ],
      "text/plain": [
       "                       count      mean       std       min       25%  \\\n",
       "d_imp_usch_pd_fitted  3772.0  0.754591  0.466212 -0.078375  0.416736   \n",
       "d_imp_usch_pd         3772.0  0.754591  0.652882 -0.259663  0.343260   \n",
       "\n",
       "                           50%       75%       max  \n",
       "d_imp_usch_pd_fitted  0.671922  1.023962  2.848157  \n",
       "d_imp_usch_pd         0.623485  0.966137  6.079161  "
      ]
     },
     "execution_count": 6,
     "metadata": {},
     "output_type": "execute_result"
    }
   ],
   "source": [
    "df[['d_imp_usch_pd_fitted', 'd_imp_usch_pd']].describe().T"
   ]
  },
  {
   "cell_type": "markdown",
   "metadata": {},
   "source": [
    "### Second Stage"
   ]
  },
  {
   "cell_type": "code",
   "execution_count": 7,
   "metadata": {},
   "outputs": [
    {
     "data": {
      "text/html": [
       "<table class=\"simpletable\">\n",
       "<caption>OLS Regression Results</caption>\n",
       "<tr>\n",
       "  <th>Dep. Variable:</th>    <td>d2_shnr_2002_2016</td> <th>  R-squared:         </th> <td>   0.019</td> \n",
       "</tr>\n",
       "<tr>\n",
       "  <th>Model:</th>                   <td>OLS</td>        <th>  Adj. R-squared:    </th> <td>   0.019</td> \n",
       "</tr>\n",
       "<tr>\n",
       "  <th>Method:</th>             <td>Least Squares</td>   <th>  F-statistic:       </th> <td>   36.95</td> \n",
       "</tr>\n",
       "<tr>\n",
       "  <th>Date:</th>             <td>Sun, 13 Jun 2021</td>  <th>  Prob (F-statistic):</th> <td>1.28e-16</td> \n",
       "</tr>\n",
       "<tr>\n",
       "  <th>Time:</th>                 <td>15:24:18</td>      <th>  Log-Likelihood:    </th> <td> -17581.</td> \n",
       "</tr>\n",
       "<tr>\n",
       "  <th>No. Observations:</th>      <td>  3767</td>       <th>  AIC:               </th> <td>3.517e+04</td>\n",
       "</tr>\n",
       "<tr>\n",
       "  <th>Df Residuals:</th>          <td>  3764</td>       <th>  BIC:               </th> <td>3.519e+04</td>\n",
       "</tr>\n",
       "<tr>\n",
       "  <th>Df Model:</th>              <td>     2</td>       <th>                     </th>     <td> </td>    \n",
       "</tr>\n",
       "<tr>\n",
       "  <th>Covariance Type:</th>      <td>nonrobust</td>     <th>                     </th>     <td> </td>    \n",
       "</tr>\n",
       "</table>\n",
       "<table class=\"simpletable\">\n",
       "<tr>\n",
       "            <td></td>              <th>coef</th>     <th>std err</th>      <th>t</th>      <th>P>|t|</th>  <th>[0.025</th>    <th>0.975]</th>  \n",
       "</tr>\n",
       "<tr>\n",
       "  <th>Intercept</th>            <td>    1.5866</td> <td>    0.931</td> <td>    1.704</td> <td> 0.088</td> <td>   -0.239</td> <td>    3.412</td>\n",
       "</tr>\n",
       "<tr>\n",
       "  <th>d_imp_usch_pd_fitted</th> <td>   -9.5264</td> <td>    2.223</td> <td>   -4.286</td> <td> 0.000</td> <td>  -13.884</td> <td>   -5.169</td>\n",
       "</tr>\n",
       "<tr>\n",
       "  <th>l_shind_manuf_cbp</th>    <td>   73.5628</td> <td>   10.607</td> <td>    6.935</td> <td> 0.000</td> <td>   52.767</td> <td>   94.359</td>\n",
       "</tr>\n",
       "</table>\n",
       "<table class=\"simpletable\">\n",
       "<tr>\n",
       "  <th>Omnibus:</th>       <td>71.652</td> <th>  Durbin-Watson:     </th> <td>   1.590</td>\n",
       "</tr>\n",
       "<tr>\n",
       "  <th>Prob(Omnibus):</th> <td> 0.000</td> <th>  Jarque-Bera (JB):  </th> <td> 122.096</td>\n",
       "</tr>\n",
       "<tr>\n",
       "  <th>Skew:</th>          <td> 0.155</td> <th>  Prob(JB):          </th> <td>3.07e-27</td>\n",
       "</tr>\n",
       "<tr>\n",
       "  <th>Kurtosis:</th>      <td> 3.826</td> <th>  Cond. No.          </th> <td>    33.6</td>\n",
       "</tr>\n",
       "</table><br/><br/>Notes:<br/>[1] Standard Errors assume that the covariance matrix of the errors is correctly specified."
      ],
      "text/plain": [
       "<class 'statsmodels.iolib.summary.Summary'>\n",
       "\"\"\"\n",
       "                            OLS Regression Results                            \n",
       "==============================================================================\n",
       "Dep. Variable:      d2_shnr_2002_2016   R-squared:                       0.019\n",
       "Model:                            OLS   Adj. R-squared:                  0.019\n",
       "Method:                 Least Squares   F-statistic:                     36.95\n",
       "Date:                Sun, 13 Jun 2021   Prob (F-statistic):           1.28e-16\n",
       "Time:                        15:24:18   Log-Likelihood:                -17581.\n",
       "No. Observations:                3767   AIC:                         3.517e+04\n",
       "Df Residuals:                    3764   BIC:                         3.519e+04\n",
       "Df Model:                           2                                         \n",
       "Covariance Type:            nonrobust                                         \n",
       "========================================================================================\n",
       "                           coef    std err          t      P>|t|      [0.025      0.975]\n",
       "----------------------------------------------------------------------------------------\n",
       "Intercept                1.5866      0.931      1.704      0.088      -0.239       3.412\n",
       "d_imp_usch_pd_fitted    -9.5264      2.223     -4.286      0.000     -13.884      -5.169\n",
       "l_shind_manuf_cbp       73.5628     10.607      6.935      0.000      52.767      94.359\n",
       "==============================================================================\n",
       "Omnibus:                       71.652   Durbin-Watson:                   1.590\n",
       "Prob(Omnibus):                  0.000   Jarque-Bera (JB):              122.096\n",
       "Skew:                           0.155   Prob(JB):                     3.07e-27\n",
       "Kurtosis:                       3.826   Cond. No.                         33.6\n",
       "==============================================================================\n",
       "\n",
       "Notes:\n",
       "[1] Standard Errors assume that the covariance matrix of the errors is correctly specified.\n",
       "\"\"\""
      ]
     },
     "execution_count": 7,
     "metadata": {},
     "output_type": "execute_result"
    }
   ],
   "source": [
    "reg_secondstage = smf.ols(formula='d2_shnr_2002_2016 ~ d_imp_usch_pd_fitted  + l_shind_manuf_cbp', data=df).fit()\n",
    "reg_secondstage.summary()"
   ]
  },
  {
   "cell_type": "markdown",
   "metadata": {},
   "source": [
    "**Exercise:** How can this output be interpreted? How about standard errors?"
   ]
  },
  {
   "cell_type": "markdown",
   "metadata": {},
   "source": [
    "### IV in one command"
   ]
  },
  {
   "cell_type": "code",
   "execution_count": 8,
   "metadata": {},
   "outputs": [],
   "source": [
    "# help(iv.IV2SLS.from_formula)"
   ]
  },
  {
   "cell_type": "markdown",
   "metadata": {},
   "source": [
    "Note that for this command to work, we need to make sure that the data we use does not contain *missing values*, indicated as \"NA\" in Python. You might come across this problem in your future research, so knowing how to deal with missing values is important. For more information, refer to https://pandas.pydata.org/pandas-docs/stable/user_guide/missing_data.html.\n",
    "\n",
    "Let's consider our data set again:"
   ]
  },
  {
   "cell_type": "code",
   "execution_count": 9,
   "metadata": {
    "scrolled": false
   },
   "outputs": [
    {
     "name": "stdout",
     "output_type": "stream",
     "text": [
      "<class 'pandas.core.frame.DataFrame'>\n",
      "Int64Index: 3772 entries, 0 to 3771\n",
      "Columns: 121 entries, congressionaldistrict to d_imp_usch_pd_fitted\n",
      "dtypes: float32(116), float64(4), object(1)\n",
      "memory usage: 1.8+ MB\n"
     ]
    }
   ],
   "source": [
    "df.info()"
   ]
  },
  {
   "cell_type": "markdown",
   "metadata": {},
   "source": [
    "How many entries are missing for our variables that we use in our analysis?"
   ]
  },
  {
   "cell_type": "code",
   "execution_count": 10,
   "metadata": {
    "scrolled": true
   },
   "outputs": [
    {
     "data": {
      "text/plain": [
       "d2_shnr_2002_2016    5\n",
       "d_imp_usch_pd        0\n",
       "l_shind_manuf_cbp    0\n",
       "d_imp_otch_lag_pd    0\n",
       "dtype: int64"
      ]
     },
     "execution_count": 10,
     "metadata": {},
     "output_type": "execute_result"
    }
   ],
   "source": [
    "df[[\"d2_shnr_2002_2016\",\"d_imp_usch_pd\", \"l_shind_manuf_cbp\", \"d_imp_otch_lag_pd\"]].isna().sum()"
   ]
  },
  {
   "cell_type": "markdown",
   "metadata": {},
   "source": [
    "Let's drop these observations with missing values."
   ]
  },
  {
   "cell_type": "code",
   "execution_count": 11,
   "metadata": {},
   "outputs": [],
   "source": [
    "df =df.dropna(subset= [\"d2_shnr_2002_2016\",\"d_imp_usch_pd\", \"l_shind_manuf_cbp\", \"d_imp_otch_lag_pd\"])"
   ]
  },
  {
   "cell_type": "code",
   "execution_count": 12,
   "metadata": {
    "scrolled": false
   },
   "outputs": [
    {
     "name": "stdout",
     "output_type": "stream",
     "text": [
      "<class 'pandas.core.frame.DataFrame'>\n",
      "Int64Index: 3767 entries, 0 to 3771\n",
      "Columns: 121 entries, congressionaldistrict to d_imp_usch_pd_fitted\n",
      "dtypes: float32(116), float64(4), object(1)\n",
      "memory usage: 1.8+ MB\n"
     ]
    }
   ],
   "source": [
    "df.info()"
   ]
  },
  {
   "cell_type": "markdown",
   "metadata": {},
   "source": [
    "Alright, we are now set to perfom IV regression in a single command."
   ]
  },
  {
   "cell_type": "code",
   "execution_count": 13,
   "metadata": {},
   "outputs": [],
   "source": [
    "reg_iv = iv.IV2SLS.from_formula(\n",
    "    formula = 'd2_shnr_2002_2016 ~ 1 + [d_imp_usch_pd ~  d_imp_otch_lag_pd ] + l_shind_manuf_cbp',\n",
    "    data=df).fit(cov_type='robust', debiased= True)"
   ]
  },
  {
   "cell_type": "code",
   "execution_count": 14,
   "metadata": {
    "scrolled": false
   },
   "outputs": [
    {
     "name": "stdout",
     "output_type": "stream",
     "text": [
      "                          IV-2SLS Estimation Summary                          \n",
      "==============================================================================\n",
      "Dep. Variable:      d2_shnr_2002_2016   R-squared:                      0.0069\n",
      "Estimator:                    IV-2SLS   Adj. R-squared:                 0.0064\n",
      "No. Observations:                3767   F-statistic:                    36.375\n",
      "Date:                Sun, Jun 13 2021   P-value (F-stat)                0.0000\n",
      "Time:                        15:24:18   Distribution:                F(2,3764)\n",
      "Cov. Estimator:                robust                                         \n",
      "                                                                              \n",
      "                                 Parameter Estimates                                 \n",
      "=====================================================================================\n",
      "                   Parameter  Std. Err.     T-stat    P-value    Lower CI    Upper CI\n",
      "-------------------------------------------------------------------------------------\n",
      "Intercept             1.5852     0.9147     1.7330     0.0832     -0.2081      3.3786\n",
      "l_shind_manuf_cbp     73.577     11.589     6.3487     0.0000      50.855      96.298\n",
      "d_imp_usch_pd        -9.5281     2.4675    -3.8615     0.0001     -14.366     -4.6904\n",
      "=====================================================================================\n",
      "\n",
      "Endogenous: d_imp_usch_pd\n",
      "Instruments: d_imp_otch_lag_pd\n",
      "Robust Covariance (Heteroskedastic)\n",
      "Debiased: True\n"
     ]
    }
   ],
   "source": [
    "print(reg_iv.summary)"
   ]
  },
  {
   "cell_type": "code",
   "execution_count": 15,
   "metadata": {},
   "outputs": [
    {
     "name": "stdout",
     "output_type": "stream",
     "text": [
      "     First Stage Estimation Results     \n",
      "========================================\n",
      "                           d_imp_usch_pd\n",
      "----------------------------------------\n",
      "R-squared                         0.5099\n",
      "Partial R-squared                 0.1455\n",
      "Shea's R-squared                  0.1455\n",
      "Partial F-statistic               150.78\n",
      "P-value (Partial F-stat)          0.0000\n",
      "Partial F-stat Distn             chi2(1)\n",
      "==========================   ===========\n",
      "Intercept                        -0.0817\n",
      "                               (-6.3243)\n",
      "l_shind_manuf_cbp                 2.9194\n",
      "                                (19.774)\n",
      "d_imp_otch_lag_pd                 0.2184\n",
      "                                (12.276)\n",
      "----------------------------------------\n",
      "\n",
      "T-stats reported in parentheses\n",
      "T-stats use same covariance type as original model\n"
     ]
    }
   ],
   "source": [
    "print(reg_iv.first_stage)"
   ]
  },
  {
   "cell_type": "markdown",
   "metadata": {},
   "source": [
    "Let's compare the IV results to the OLS results. Unfortunately, stargazer does only support results from the *statsmodels* module, not from *linearmodels*."
   ]
  },
  {
   "cell_type": "code",
   "execution_count": 16,
   "metadata": {},
   "outputs": [],
   "source": [
    "reg2 = smf.ols('d2_shnr_2002_2016 ~ d_imp_usch_pd + l_shind_manuf_cbp', data=df).fit(cov_type='HC1')"
   ]
  },
  {
   "cell_type": "code",
   "execution_count": 17,
   "metadata": {},
   "outputs": [
    {
     "data": {
      "text/html": [
       "<table class=\"simpletable\">\n",
       "<tr>\n",
       "          <td></td>             <th>coef</th>     <th>std err</th>      <th>z</th>      <th>P>|z|</th>  <th>[0.025</th>    <th>0.975]</th>  \n",
       "</tr>\n",
       "<tr>\n",
       "  <th>Intercept</th>         <td>    2.0166</td> <td>    0.887</td> <td>    2.274</td> <td> 0.023</td> <td>    0.278</td> <td>    3.755</td>\n",
       "</tr>\n",
       "<tr>\n",
       "  <th>d_imp_usch_pd</th>     <td>   -3.6655</td> <td>    0.773</td> <td>   -4.740</td> <td> 0.000</td> <td>   -5.181</td> <td>   -2.150</td>\n",
       "</tr>\n",
       "<tr>\n",
       "  <th>l_shind_manuf_cbp</th> <td>   47.9902</td> <td>    5.430</td> <td>    8.838</td> <td> 0.000</td> <td>   37.348</td> <td>   58.632</td>\n",
       "</tr>\n",
       "</table>"
      ],
      "text/plain": [
       "<class 'statsmodels.iolib.table.SimpleTable'>"
      ]
     },
     "execution_count": 17,
     "metadata": {},
     "output_type": "execute_result"
    }
   ],
   "source": [
    "reg2.summary().tables[1]"
   ]
  },
  {
   "cell_type": "code",
   "execution_count": 18,
   "metadata": {},
   "outputs": [
    {
     "data": {
      "text/html": [
       "<table class=\"simpletable\">\n",
       "<caption>Parameter Estimates</caption>\n",
       "<tr>\n",
       "          <td></td>          <th>Parameter</th> <th>Std. Err.</th> <th>T-stat</th>  <th>P-value</th> <th>Lower CI</th> <th>Upper CI</th>\n",
       "</tr>\n",
       "<tr>\n",
       "  <th>Intercept</th>          <td>1.5852</td>    <td>0.9147</td>   <td>1.7330</td>  <td>0.0832</td>   <td>-0.2081</td>  <td>3.3786</td> \n",
       "</tr>\n",
       "<tr>\n",
       "  <th>l_shind_manuf_cbp</th>  <td>73.577</td>    <td>11.589</td>   <td>6.3487</td>  <td>0.0000</td>   <td>50.855</td>   <td>96.298</td> \n",
       "</tr>\n",
       "<tr>\n",
       "  <th>d_imp_usch_pd</th>      <td>-9.5281</td>   <td>2.4675</td>   <td>-3.8615</td> <td>0.0001</td>   <td>-14.366</td>  <td>-4.6904</td>\n",
       "</tr>\n",
       "</table>"
      ],
      "text/plain": [
       "<class 'statsmodels.iolib.table.SimpleTable'>"
      ]
     },
     "execution_count": 18,
     "metadata": {},
     "output_type": "execute_result"
    }
   ],
   "source": [
    "reg_iv.summary.tables[1]"
   ]
  },
  {
   "cell_type": "markdown",
   "metadata": {},
   "source": [
    "---\n",
    "**Congratulations! This is the end of coding session 6.**"
   ]
  }
 ],
 "metadata": {
  "kernelspec": {
   "display_name": "Python 3",
   "language": "python",
   "name": "python3"
  },
  "language_info": {
   "codemirror_mode": {
    "name": "ipython",
    "version": 3
   },
   "file_extension": ".py",
   "mimetype": "text/x-python",
   "name": "python",
   "nbconvert_exporter": "python",
   "pygments_lexer": "ipython3",
   "version": "3.7.3"
  },
  "varInspector": {
   "cols": {
    "lenName": 16,
    "lenType": 16,
    "lenVar": 40
   },
   "kernels_config": {
    "python": {
     "delete_cmd_postfix": "",
     "delete_cmd_prefix": "del ",
     "library": "var_list.py",
     "varRefreshCmd": "print(var_dic_list())"
    },
    "r": {
     "delete_cmd_postfix": ") ",
     "delete_cmd_prefix": "rm(",
     "library": "var_list.r",
     "varRefreshCmd": "cat(var_dic_list()) "
    }
   },
   "types_to_exclude": [
    "module",
    "function",
    "builtin_function_or_method",
    "instance",
    "_Feature"
   ],
   "window_display": false
  }
 },
 "nbformat": 4,
 "nbformat_minor": 2
}
