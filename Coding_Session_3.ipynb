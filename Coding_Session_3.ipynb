{
 "cells": [
  {
   "cell_type": "markdown",
   "metadata": {},
   "source": [
    "## Transformations in Political Economy - Technological Change and Populism (POL63102)\n",
    "### Coding Session 3: Multivariate Linear Regression"
   ]
  },
  {
   "cell_type": "markdown",
   "metadata": {},
   "source": [
    "---\n",
    "This document guides you through coding session 3. Please try to follow the instructions on your own PC and feel free to ask questions if something is unclear. After this session you should be able to do the following:\n",
    "\n",
    "- Implement Multivariate Linear Regression\n",
    "- Use Robust Standard Errors\n",
    "---"
   ]
  },
  {
   "cell_type": "markdown",
   "metadata": {},
   "source": [
    "Let's start as usual by importing modules and loading data."
   ]
  },
  {
   "cell_type": "code",
   "execution_count": 16,
   "metadata": {},
   "outputs": [],
   "source": [
    "import numpy as np\n",
    "import scipy.stats as st\n",
    "import matplotlib.pyplot as plt\n",
    "import pandas as pd\n",
    "import seaborn as sns\n",
    "import statsmodels.api as sm\n",
    "import statsmodels.formula.api as smf\n",
    "import os\n",
    "from pathlib import Path\n",
    "\n",
    "df = pd.read_stata('C:/Users/felix/Dropbox/HfP/Teaching/SoSe21/Populism_Course/data/Autor_data_extract.dta')"
   ]
  },
  {
   "cell_type": "markdown",
   "metadata": {},
   "source": [
    "Remember that the data covers 3,722 county-district cells and contains amongst others the following variables:\n",
    "- *d2_shnr_2002_Y* are the main outcome variables measuring the change in the Republican two-party vote share percentage between year 2002 and year Y = 2004, ..., 2016\n",
    "- *d_imp_usch_pd* is the main independent variable for local labor market exposure to import competition from China\n",
    "- *l_shind_manuf_cbp* is a control variable for manufacturing employment share\n",
    "\n",
    "Let's produce summary statistics for these variables:"
   ]
  },
  {
   "cell_type": "code",
   "execution_count": 17,
   "metadata": {
    "scrolled": true
   },
   "outputs": [
    {
     "data": {
      "text/html": [
       "<div>\n",
       "<style scoped>\n",
       "    .dataframe tbody tr th:only-of-type {\n",
       "        vertical-align: middle;\n",
       "    }\n",
       "\n",
       "    .dataframe tbody tr th {\n",
       "        vertical-align: top;\n",
       "    }\n",
       "\n",
       "    .dataframe thead th {\n",
       "        text-align: right;\n",
       "    }\n",
       "</style>\n",
       "<table border=\"1\" class=\"dataframe\">\n",
       "  <thead>\n",
       "    <tr style=\"text-align: right;\">\n",
       "      <th></th>\n",
       "      <th>count</th>\n",
       "      <th>mean</th>\n",
       "      <th>std</th>\n",
       "      <th>min</th>\n",
       "      <th>25%</th>\n",
       "      <th>50%</th>\n",
       "      <th>75%</th>\n",
       "      <th>max</th>\n",
       "    </tr>\n",
       "  </thead>\n",
       "  <tbody>\n",
       "    <tr>\n",
       "      <th>d2_shnr_2002_2016</th>\n",
       "      <td>3767.0</td>\n",
       "      <td>8.358822</td>\n",
       "      <td>25.995949</td>\n",
       "      <td>-95.661407</td>\n",
       "      <td>-6.477878</td>\n",
       "      <td>6.811324</td>\n",
       "      <td>23.068745</td>\n",
       "      <td>100.000000</td>\n",
       "    </tr>\n",
       "    <tr>\n",
       "      <th>d_imp_usch_pd</th>\n",
       "      <td>3772.0</td>\n",
       "      <td>0.754591</td>\n",
       "      <td>0.652882</td>\n",
       "      <td>-0.259663</td>\n",
       "      <td>0.343260</td>\n",
       "      <td>0.623485</td>\n",
       "      <td>0.966137</td>\n",
       "      <td>6.079161</td>\n",
       "    </tr>\n",
       "    <tr>\n",
       "      <th>l_shind_manuf_cbp</th>\n",
       "      <td>3772.0</td>\n",
       "      <td>0.189763</td>\n",
       "      <td>0.097713</td>\n",
       "      <td>0.001083</td>\n",
       "      <td>0.115888</td>\n",
       "      <td>0.170197</td>\n",
       "      <td>0.257179</td>\n",
       "      <td>0.552423</td>\n",
       "    </tr>\n",
       "  </tbody>\n",
       "</table>\n",
       "</div>"
      ],
      "text/plain": [
       "                    count      mean        std        min       25%       50%  \\\n",
       "d2_shnr_2002_2016  3767.0  8.358822  25.995949 -95.661407 -6.477878  6.811324   \n",
       "d_imp_usch_pd      3772.0  0.754591   0.652882  -0.259663  0.343260  0.623485   \n",
       "l_shind_manuf_cbp  3772.0  0.189763   0.097713   0.001083  0.115888  0.170197   \n",
       "\n",
       "                         75%         max  \n",
       "d2_shnr_2002_2016  23.068745  100.000000  \n",
       "d_imp_usch_pd       0.966137    6.079161  \n",
       "l_shind_manuf_cbp   0.257179    0.552423  "
      ]
     },
     "execution_count": 17,
     "metadata": {},
     "output_type": "execute_result"
    }
   ],
   "source": [
    "df[[\"d2_shnr_2002_2016\",\"d_imp_usch_pd\", \"l_shind_manuf_cbp\"]].describe().T"
   ]
  },
  {
   "cell_type": "markdown",
   "metadata": {},
   "source": [
    "In a multivariate regression model, we add more variables to the right of the regression equation:\n",
    "\n",
    "\\begin{align}\n",
    "y = \\beta_0 + \\beta_1 x_1 + \\beta_2 x_2 + \\epsilon\n",
    "\\end{align}\n",
    "\n",
    "what can also be written in matrix notation as\n",
    "\n",
    "\\begin{align}\n",
    "y = \\textbf{X'}\\beta + \\epsilon\n",
    "\\end{align}\n",
    "\n",
    "where the transposed matrix $\\textbf{X'}$ is composed of all k variables $x_1, x_2, ... , x_k$ and a constant vector of 1s in the regression. "
   ]
  },
  {
   "cell_type": "markdown",
   "metadata": {},
   "source": [
    "Let's add the employment share in manufacturing to our regression model. Notice that in the formula from the *ols* function you need a \"+\":"
   ]
  },
  {
   "cell_type": "code",
   "execution_count": 19,
   "metadata": {
    "scrolled": true
   },
   "outputs": [
    {
     "name": "stdout",
     "output_type": "stream",
     "text": [
      "                            OLS Regression Results                            \n",
      "==============================================================================\n",
      "Dep. Variable:      d2_shnr_2002_2016   R-squared:                       0.019\n",
      "Model:                            OLS   Adj. R-squared:                  0.019\n",
      "Method:                 Least Squares   F-statistic:                     37.11\n",
      "Date:                Fri, 11 Jun 2021   Prob (F-statistic):           1.10e-16\n",
      "Time:                        15:02:31   Log-Likelihood:                -17581.\n",
      "No. Observations:                3767   AIC:                         3.517e+04\n",
      "Df Residuals:                    3764   BIC:                         3.519e+04\n",
      "Df Model:                           2                                         \n",
      "Covariance Type:            nonrobust                                         \n",
      "=====================================================================================\n",
      "                        coef    std err          t      P>|t|      [0.025      0.975]\n",
      "-------------------------------------------------------------------------------------\n",
      "Intercept             2.0166      0.919      2.195      0.028       0.216       3.818\n",
      "d_imp_usch_pd        -3.6655      0.848     -4.322      0.000      -5.328      -2.003\n",
      "l_shind_manuf_cbp    47.9902      5.668      8.466      0.000      36.877      59.104\n",
      "==============================================================================\n",
      "Omnibus:                       66.499   Durbin-Watson:                   1.589\n",
      "Prob(Omnibus):                  0.000   Jarque-Bera (JB):              117.465\n",
      "Skew:                           0.122   Prob(JB):                     3.11e-26\n",
      "Kurtosis:                       3.830   Cond. No.                         18.3\n",
      "==============================================================================\n",
      "\n",
      "Warnings:\n",
      "[1] Standard Errors assume that the covariance matrix of the errors is correctly specified.\n"
     ]
    }
   ],
   "source": [
    "results = smf.ols('d2_shnr_2002_2016 ~ d_imp_usch_pd + l_shind_manuf_cbp', data=df).fit()\n",
    "print(results.summary())"
   ]
  },
  {
   "cell_type": "markdown",
   "metadata": {},
   "source": [
    "You can also access summary of the results in table format like this:"
   ]
  },
  {
   "cell_type": "code",
   "execution_count": 20,
   "metadata": {
    "scrolled": true
   },
   "outputs": [
    {
     "data": {
      "text/html": [
       "<table class=\"simpletable\">\n",
       "<tr>\n",
       "          <td></td>             <th>coef</th>     <th>std err</th>      <th>t</th>      <th>P>|t|</th>  <th>[0.025</th>    <th>0.975]</th>  \n",
       "</tr>\n",
       "<tr>\n",
       "  <th>Intercept</th>         <td>    2.0166</td> <td>    0.919</td> <td>    2.195</td> <td> 0.028</td> <td>    0.216</td> <td>    3.818</td>\n",
       "</tr>\n",
       "<tr>\n",
       "  <th>d_imp_usch_pd</th>     <td>   -3.6655</td> <td>    0.848</td> <td>   -4.322</td> <td> 0.000</td> <td>   -5.328</td> <td>   -2.003</td>\n",
       "</tr>\n",
       "<tr>\n",
       "  <th>l_shind_manuf_cbp</th> <td>   47.9902</td> <td>    5.668</td> <td>    8.466</td> <td> 0.000</td> <td>   36.877</td> <td>   59.104</td>\n",
       "</tr>\n",
       "</table>"
      ],
      "text/plain": [
       "<class 'statsmodels.iolib.table.SimpleTable'>"
      ]
     },
     "execution_count": 20,
     "metadata": {},
     "output_type": "execute_result"
    }
   ],
   "source": [
    "results.summary().tables[1]"
   ]
  },
  {
   "cell_type": "markdown",
   "metadata": {},
   "source": [
    "Note that the coefficient on import competition is $\\hat \\beta_1=-3.67$ (as compared to  $\\hat \\beta_1=1.03$ in the simple model in the previous coding session). Note that using robust standard errors does not affect coefficient size, but their standard errors and hence statistical significance."
   ]
  },
  {
   "cell_type": "markdown",
   "metadata": {},
   "source": [
    "Have you noticed the footnote saying:\n",
    "*Warnings:\n",
    "[1] Standard Errors assume that the covariance matrix of the errors is correctly specified.*?\n",
    "\n",
    "Yes, we should use robust standard errors if we have heteroskedasticity or even cluster standard errors. Let's see how this is being implemented."
   ]
  },
  {
   "cell_type": "code",
   "execution_count": 23,
   "metadata": {},
   "outputs": [
    {
     "data": {
      "text/html": [
       "<table class=\"simpletable\">\n",
       "<tr>\n",
       "          <td></td>             <th>coef</th>     <th>std err</th>      <th>z</th>      <th>P>|z|</th>  <th>[0.025</th>    <th>0.975]</th>  \n",
       "</tr>\n",
       "<tr>\n",
       "  <th>Intercept</th>         <td>    2.0166</td> <td>    0.887</td> <td>    2.274</td> <td> 0.023</td> <td>    0.278</td> <td>    3.755</td>\n",
       "</tr>\n",
       "<tr>\n",
       "  <th>d_imp_usch_pd</th>     <td>   -3.6655</td> <td>    0.773</td> <td>   -4.740</td> <td> 0.000</td> <td>   -5.181</td> <td>   -2.150</td>\n",
       "</tr>\n",
       "<tr>\n",
       "  <th>l_shind_manuf_cbp</th> <td>   47.9902</td> <td>    5.430</td> <td>    8.838</td> <td> 0.000</td> <td>   37.348</td> <td>   58.632</td>\n",
       "</tr>\n",
       "</table>"
      ],
      "text/plain": [
       "<class 'statsmodels.iolib.table.SimpleTable'>"
      ]
     },
     "execution_count": 23,
     "metadata": {},
     "output_type": "execute_result"
    }
   ],
   "source": [
    "(smf.ols('d2_shnr_2002_2016 ~ d_imp_usch_pd + l_shind_manuf_cbp', data=df)\n",
    "    .fit(cov_type='HC1')\n",
    "    .summary()\n",
    "    .tables[1])"
   ]
  },
  {
   "cell_type": "markdown",
   "metadata": {},
   "source": [
    "Or alternatively, we can go back to existing results and recompute from those:"
   ]
  },
  {
   "cell_type": "code",
   "execution_count": 21,
   "metadata": {
    "scrolled": true
   },
   "outputs": [
    {
     "name": "stdout",
     "output_type": "stream",
     "text": [
      "                            OLS Regression Results                            \n",
      "==============================================================================\n",
      "Dep. Variable:      d2_shnr_2002_2016   R-squared:                       0.019\n",
      "Model:                            OLS   Adj. R-squared:                  0.019\n",
      "Method:                 Least Squares   F-statistic:                     39.79\n",
      "Date:                Fri, 11 Jun 2021   Prob (F-statistic):           7.97e-18\n",
      "Time:                        15:08:14   Log-Likelihood:                -17581.\n",
      "No. Observations:                3767   AIC:                         3.517e+04\n",
      "Df Residuals:                    3764   BIC:                         3.519e+04\n",
      "Df Model:                           2                                         \n",
      "Covariance Type:                  HC2                                         \n",
      "=====================================================================================\n",
      "                        coef    std err          t      P>|t|      [0.025      0.975]\n",
      "-------------------------------------------------------------------------------------\n",
      "Intercept             2.0166      0.887      2.273      0.023       0.277       3.756\n",
      "d_imp_usch_pd        -3.6655      0.776     -4.726      0.000      -5.186      -2.145\n",
      "l_shind_manuf_cbp    47.9902      5.435      8.829      0.000      37.334      58.647\n",
      "==============================================================================\n",
      "Omnibus:                       66.499   Durbin-Watson:                   1.589\n",
      "Prob(Omnibus):                  0.000   Jarque-Bera (JB):              117.465\n",
      "Skew:                           0.122   Prob(JB):                     3.11e-26\n",
      "Kurtosis:                       3.830   Cond. No.                         18.3\n",
      "==============================================================================\n",
      "\n",
      "Warnings:\n",
      "[1] Standard Errors are heteroscedasticity robust (HC2)\n"
     ]
    }
   ],
   "source": [
    "print(results.get_robustcov_results('HC2').summary())"
   ]
  },
  {
   "cell_type": "markdown",
   "metadata": {},
   "source": [
    "Note how coefficient size is unchanged, but standard errors are different. This might have implications for statistical significance."
   ]
  },
  {
   "cell_type": "markdown",
   "metadata": {},
   "source": [
    "**Exercise:** \n",
    "* What does it mean that $\\hat \\beta_1$ changes when including manufacturing employment share as another explanatory variable? \n",
    "* Discuss whether you might want to use clustered standard errors in this setting. \n",
    "Note: For implementation of clustered and two-way clustered standard errors, see https://aeturrell.github.io/coding-for-economists/econmt-regression.html."
   ]
  },
  {
   "cell_type": "markdown",
   "metadata": {},
   "source": [
    "---\n",
    "**Congratulations! This is the end of coding session 3.**"
   ]
  }
 ],
 "metadata": {
  "kernelspec": {
   "display_name": "Python 3",
   "language": "python",
   "name": "python3"
  },
  "language_info": {
   "codemirror_mode": {
    "name": "ipython",
    "version": 3
   },
   "file_extension": ".py",
   "mimetype": "text/x-python",
   "name": "python",
   "nbconvert_exporter": "python",
   "pygments_lexer": "ipython3",
   "version": "3.7.3"
  },
  "varInspector": {
   "cols": {
    "lenName": 16,
    "lenType": 16,
    "lenVar": 40
   },
   "kernels_config": {
    "python": {
     "delete_cmd_postfix": "",
     "delete_cmd_prefix": "del ",
     "library": "var_list.py",
     "varRefreshCmd": "print(var_dic_list())"
    },
    "r": {
     "delete_cmd_postfix": ") ",
     "delete_cmd_prefix": "rm(",
     "library": "var_list.r",
     "varRefreshCmd": "cat(var_dic_list()) "
    }
   },
   "types_to_exclude": [
    "module",
    "function",
    "builtin_function_or_method",
    "instance",
    "_Feature"
   ],
   "window_display": false
  }
 },
 "nbformat": 4,
 "nbformat_minor": 2
}
