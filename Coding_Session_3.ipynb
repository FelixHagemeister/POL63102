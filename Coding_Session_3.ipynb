{
 "cells": [
  {
   "cell_type": "markdown",
   "metadata": {},
   "source": [
    "## Transformations in Political Economy - Technological Change and Populism (POL63102)\n",
    "### Coding Session 3: Multivariate Linear Regression"
   ]
  },
  {
   "cell_type": "markdown",
   "metadata": {},
   "source": [
    "---\n",
    "This document guides you through coding session 3. Please try to follow the instructions on your own PC and feel free to ask questions if something is unclear. After this session you should be able to do the following:\n",
    "\n",
    "- Implement Multivariate Linear Regression\n",
    "- Use Robust Standard Errors\n",
    "---"
   ]
  },
  {
   "cell_type": "markdown",
   "metadata": {},
   "source": [
    "Let's start as usual by importing modules and loading data. Note that we also load the **econtools** module for additional econometric functionalities (e.g. robust or clustered standard errors)."
   ]
  },
  {
   "cell_type": "code",
   "execution_count": 6,
   "metadata": {},
   "outputs": [],
   "source": [
    "import pandas as pd\n",
    "import numpy as np\n",
    "import econtools.metrics as mt\n",
    "\n",
    "df = pd.read_stata('C:/Users/felix/Dropbox/HfP/Teaching/SoSe21/Populism_Course/data/Autor_data_extract.dta')"
   ]
  },
  {
   "cell_type": "markdown",
   "metadata": {},
   "source": [
    "Remember that the data covers 3,722 county-district cells and contains amongst others the following variables:\n",
    "- *d2_shnr_2002_Y* are the main outcome variables measuring the change in the Republican two-party vote share percentage between year 2002 and year Y = 2004, ..., 2016\n",
    "- *d_imp_usch_pd* is the main independent variable for local labor market exposure to import competition from China\n",
    "- *l_shind_manuf_cbp* is a control variable for manufacturing employment share\n",
    "\n",
    "Let's produce summary statistics for these variables:"
   ]
  },
  {
   "cell_type": "code",
   "execution_count": 13,
   "metadata": {
    "scrolled": true
   },
   "outputs": [
    {
     "data": {
      "text/html": [
       "<div>\n",
       "<style scoped>\n",
       "    .dataframe tbody tr th:only-of-type {\n",
       "        vertical-align: middle;\n",
       "    }\n",
       "\n",
       "    .dataframe tbody tr th {\n",
       "        vertical-align: top;\n",
       "    }\n",
       "\n",
       "    .dataframe thead th {\n",
       "        text-align: right;\n",
       "    }\n",
       "</style>\n",
       "<table border=\"1\" class=\"dataframe\">\n",
       "  <thead>\n",
       "    <tr style=\"text-align: right;\">\n",
       "      <th></th>\n",
       "      <th>count</th>\n",
       "      <th>mean</th>\n",
       "      <th>std</th>\n",
       "      <th>min</th>\n",
       "      <th>25%</th>\n",
       "      <th>50%</th>\n",
       "      <th>75%</th>\n",
       "      <th>max</th>\n",
       "    </tr>\n",
       "  </thead>\n",
       "  <tbody>\n",
       "    <tr>\n",
       "      <th>d2_shnr_2002_2016</th>\n",
       "      <td>3767.0</td>\n",
       "      <td>8.358822</td>\n",
       "      <td>25.995949</td>\n",
       "      <td>-95.661407</td>\n",
       "      <td>-6.477878</td>\n",
       "      <td>6.811324</td>\n",
       "      <td>23.068745</td>\n",
       "      <td>100.000000</td>\n",
       "    </tr>\n",
       "    <tr>\n",
       "      <th>d_imp_usch_pd</th>\n",
       "      <td>3772.0</td>\n",
       "      <td>0.754591</td>\n",
       "      <td>0.652882</td>\n",
       "      <td>-0.259663</td>\n",
       "      <td>0.343260</td>\n",
       "      <td>0.623485</td>\n",
       "      <td>0.966137</td>\n",
       "      <td>6.079161</td>\n",
       "    </tr>\n",
       "    <tr>\n",
       "      <th>l_shind_manuf_cbp</th>\n",
       "      <td>3772.0</td>\n",
       "      <td>0.189763</td>\n",
       "      <td>0.097713</td>\n",
       "      <td>0.001083</td>\n",
       "      <td>0.115888</td>\n",
       "      <td>0.170197</td>\n",
       "      <td>0.257179</td>\n",
       "      <td>0.552423</td>\n",
       "    </tr>\n",
       "  </tbody>\n",
       "</table>\n",
       "</div>"
      ],
      "text/plain": [
       "                    count      mean        std        min       25%       50%  \\\n",
       "d2_shnr_2002_2016  3767.0  8.358822  25.995949 -95.661407 -6.477878  6.811324   \n",
       "d_imp_usch_pd      3772.0  0.754591   0.652882  -0.259663  0.343260  0.623485   \n",
       "l_shind_manuf_cbp  3772.0  0.189763   0.097713   0.001083  0.115888  0.170197   \n",
       "\n",
       "                         75%         max  \n",
       "d2_shnr_2002_2016  23.068745  100.000000  \n",
       "d_imp_usch_pd       0.966137    6.079161  \n",
       "l_shind_manuf_cbp   0.257179    0.552423  "
      ]
     },
     "execution_count": 13,
     "metadata": {},
     "output_type": "execute_result"
    }
   ],
   "source": [
    "df[[\"d2_shnr_2002_2016\",\"d_imp_usch_pd\", \"l_shind_manuf_cbp\"]].describe().T"
   ]
  },
  {
   "cell_type": "markdown",
   "metadata": {},
   "source": [
    "In a multivariate regression model, we add more variables to the right of the regression equation:\n",
    "\n",
    "\\begin{align}\n",
    "y = \\beta_0 + \\beta_1 x_1 + \\beta_2 x_2 + \\epsilon\n",
    "\\end{align}\n",
    "\n",
    "what can also be written in matrix notation as\n",
    "\n",
    "\\begin{align}\n",
    "y = \\textbf{X'}\\beta + \\epsilon\n",
    "\\end{align}\n",
    "\n",
    "where the transposed matrix $\\textbf{X'}$ is composed of all k variables $x_1, x_2, ... , x_k$ and a constant vector of 1s in the regression. "
   ]
  },
  {
   "cell_type": "markdown",
   "metadata": {},
   "source": [
    "The econtools function also allows us to use heteroskedasticity-robust standard errors (\"robust standard errors\") by specifying vce_type='robust'. One can also implement clustered standard errors on a given level by specifying cluster=[cluster_var]."
   ]
  },
  {
   "cell_type": "code",
   "execution_count": null,
   "metadata": {},
   "outputs": [],
   "source": [
    "# help(mt.reg)"
   ]
  },
  {
   "cell_type": "code",
   "execution_count": 66,
   "metadata": {},
   "outputs": [
    {
     "data": {
      "text/html": [
       "<div>\n",
       "<style scoped>\n",
       "    .dataframe tbody tr th:only-of-type {\n",
       "        vertical-align: middle;\n",
       "    }\n",
       "\n",
       "    .dataframe tbody tr th {\n",
       "        vertical-align: top;\n",
       "    }\n",
       "\n",
       "    .dataframe thead th {\n",
       "        text-align: right;\n",
       "    }\n",
       "</style>\n",
       "<table border=\"1\" class=\"dataframe\">\n",
       "  <thead>\n",
       "    <tr style=\"text-align: right;\">\n",
       "      <th></th>\n",
       "      <th>coeff</th>\n",
       "      <th>se</th>\n",
       "      <th>t</th>\n",
       "      <th>p&gt;t</th>\n",
       "      <th>CI_low</th>\n",
       "      <th>CI_high</th>\n",
       "    </tr>\n",
       "  </thead>\n",
       "  <tbody>\n",
       "    <tr>\n",
       "      <th>d_imp_usch_pd</th>\n",
       "      <td>-3.665477</td>\n",
       "      <td>0.773381</td>\n",
       "      <td>-4.739551</td>\n",
       "      <td>2.221119e-06</td>\n",
       "      <td>-5.181763</td>\n",
       "      <td>-2.149191</td>\n",
       "    </tr>\n",
       "    <tr>\n",
       "      <th>l_shind_manuf_cbp</th>\n",
       "      <td>47.990231</td>\n",
       "      <td>5.429824</td>\n",
       "      <td>8.838266</td>\n",
       "      <td>1.464815e-18</td>\n",
       "      <td>37.344548</td>\n",
       "      <td>58.635913</td>\n",
       "    </tr>\n",
       "    <tr>\n",
       "      <th>_cons</th>\n",
       "      <td>2.016612</td>\n",
       "      <td>0.886969</td>\n",
       "      <td>2.273600</td>\n",
       "      <td>2.304614e-02</td>\n",
       "      <td>0.277626</td>\n",
       "      <td>3.755598</td>\n",
       "    </tr>\n",
       "  </tbody>\n",
       "</table>\n",
       "</div>"
      ],
      "text/plain": [
       "                       coeff        se         t           p>t     CI_low  \\\n",
       "d_imp_usch_pd      -3.665477  0.773381 -4.739551  2.221119e-06  -5.181763   \n",
       "l_shind_manuf_cbp  47.990231  5.429824  8.838266  1.464815e-18  37.344548   \n",
       "_cons               2.016612  0.886969  2.273600  2.304614e-02   0.277626   \n",
       "\n",
       "                     CI_high  \n",
       "d_imp_usch_pd      -2.149191  \n",
       "l_shind_manuf_cbp  58.635913  \n",
       "_cons               3.755598  "
      ]
     },
     "execution_count": 66,
     "metadata": {},
     "output_type": "execute_result"
    }
   ],
   "source": [
    "# Estimate multivariate linear regression with robust standard errors\n",
    "result = mt.reg(df,                                     # DataFrame to use\n",
    "                \"d2_shnr_2002_2016\",                    # Outcome\n",
    "                [\"d_imp_usch_pd\" ,\"l_shind_manuf_cbp\"], # Indep. Variables\n",
    "                addcons=True,                           # Adds Constant\n",
    "                vce_type='robust'                       # Uses Heteroscedasticity-Robust Standard Errors  \n",
    ")\n",
    "\n",
    "# Show results\n",
    "result.summary                                          # Print regression results"
   ]
  },
  {
   "cell_type": "markdown",
   "metadata": {},
   "source": [
    "Note that the coefficient on import competition is $\\hat \\beta_1=-3.67$ (as compared to  $\\hat \\beta_1=1.03$ in the simple model in the previous coding session). Note that using robust standard errors does not affect coefficient size, but their standard errors and hence statistical significance."
   ]
  },
  {
   "cell_type": "markdown",
   "metadata": {},
   "source": [
    "**Exercise:** \n",
    "* What does it mean that $\\hat \\beta_1$ changes when including manufacturing employment share as another explanatory variable? \n",
    "* Discuss whether you might want to use clustered standard errors in this setting."
   ]
  },
  {
   "cell_type": "markdown",
   "metadata": {},
   "source": [
    "---\n",
    "**Congratulations! This is the end of coding session 3.**"
   ]
  },
  {
   "cell_type": "markdown",
   "metadata": {},
   "source": [
    "### Visualize coefficients"
   ]
  },
  {
   "cell_type": "code",
   "execution_count": null,
   "metadata": {},
   "outputs": [],
   "source": []
  },
  {
   "cell_type": "code",
   "execution_count": 71,
   "metadata": {},
   "outputs": [],
   "source": [
    "beta_x1 = result.beta[\"d_imp_usch_pd\" ]                          # Get coefficient by variable name"
   ]
  },
  {
   "cell_type": "code",
   "execution_count": 73,
   "metadata": {},
   "outputs": [
    {
     "data": {
      "text/plain": [
       "[Text(0, 0.5, 'Coefficient Size'),\n",
       " Text(0.5, 0, 'Variable'),\n",
       " Text(0.5, 1.0, 'Coefficient plots')]"
      ]
     },
     "execution_count": 73,
     "metadata": {},
     "output_type": "execute_result"
    },
    {
     "data": {
      "image/png": "[encoded data removed]",
      "text/plain": [
       "<Figure size 720x432 with 1 Axes>"
      ]
     },
     "metadata": {
      "needs_background": "light"
     },
     "output_type": "display_data"
    }
   ],
   "source": [
    "\n",
    "# Define plot space\n",
    "fig, ax = plt.subplots(figsize=(10, 6))\n",
    "\n",
    "# Define x and y axes\n",
    "ax.scatter(result.beta.index, result.beta)\n",
    "\n",
    "# Set plot title and axes labels\n",
    "ax.set(title = \"Coefficient plots\",\n",
    "       xlabel = \"Variable\",\n",
    "       ylabel = \"Coefficient Size\")"
   ]
  }
 ],
 "metadata": {
  "kernelspec": {
   "display_name": "Python 3",
   "language": "python",
   "name": "python3"
  },
  "language_info": {
   "codemirror_mode": {
    "name": "ipython",
    "version": 3
   },
   "file_extension": ".py",
   "mimetype": "text/x-python",
   "name": "python",
   "nbconvert_exporter": "python",
   "pygments_lexer": "ipython3",
   "version": "3.7.3"
  },
  "varInspector": {
   "cols": {
    "lenName": 16,
    "lenType": 16,
    "lenVar": 40
   },
   "kernels_config": {
    "python": {
     "delete_cmd_postfix": "",
     "delete_cmd_prefix": "del ",
     "library": "var_list.py",
     "varRefreshCmd": "print(var_dic_list())"
    },
    "r": {
     "delete_cmd_postfix": ") ",
     "delete_cmd_prefix": "rm(",
     "library": "var_list.r",
     "varRefreshCmd": "cat(var_dic_list()) "
    }
   },
   "types_to_exclude": [
    "module",
    "function",
    "builtin_function_or_method",
    "instance",
    "_Feature"
   ],
   "window_display": false
  }
 },
 "nbformat": 4,
 "nbformat_minor": 2
}
